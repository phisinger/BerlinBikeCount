{
 "cells": [
  {
   "cell_type": "markdown",
   "metadata": {},
   "source": [
    "# Transform Data "
   ]
  },
  {
   "cell_type": "markdown",
   "metadata": {},
   "source": [
    "### Import Pandas"
   ]
  },
  {
   "cell_type": "code",
   "execution_count": 1,
   "metadata": {},
   "outputs": [],
   "source": [
    "import pandas as pd"
   ]
  },
  {
   "cell_type": "markdown",
   "metadata": {},
   "source": [
    "### Import Data"
   ]
  },
  {
   "cell_type": "code",
   "execution_count": 6,
   "metadata": {},
   "outputs": [],
   "source": [
    "data_location = pd.read_excel(\"../data/radzaehlung_berlin.xlsx\", sheet_name=\"Standortdaten\", engine=\"openpyxl\")\n",
    "data_2012 = pd.read_excel(\"../data/radzaehlung_berlin.xlsx\", sheet_name=\"Jahresdatei 2012\", engine=\"openpyxl\")\n",
    "data_2013 = pd.read_excel(\"../data/radzaehlung_berlin.xlsx\", sheet_name=\"Jahresdatei 2013\", engine=\"openpyxl\")\n",
    "data_2014 = pd.read_excel(\"../data/radzaehlung_berlin.xlsx\", sheet_name=\"Jahresdatei 2014\", engine=\"openpyxl\")\n",
    "data_2015 = pd.read_excel(\"../data/radzaehlung_berlin.xlsx\", sheet_name=\"Jahresdatei 2015\", engine=\"openpyxl\")\n",
    "data_2016 = pd.read_excel(\"../data/radzaehlung_berlin.xlsx\", sheet_name=\"Jahresdatei 2016\", engine=\"openpyxl\")\n",
    "data_2017 = pd.read_excel(\"../data/radzaehlung_berlin.xlsx\", sheet_name=\"Jahresdatei 2017\", engine=\"openpyxl\")\n",
    "data_2018 = pd.read_excel(\"../data/radzaehlung_berlin.xlsx\", sheet_name=\"Jahresdatei 2018\", engine=\"openpyxl\")\n",
    "data_2019 = pd.read_excel(\"../data/radzaehlung_berlin.xlsx\", sheet_name=\"Jahresdatei 2019\", engine=\"openpyxl\")\n",
    "data_2020 = pd.read_excel(\"../data/radzaehlung_berlin.xlsx\", sheet_name=\"Jahresdatei 2020\", engine=\"openpyxl\")\n",
    "\n",
    "counting_tables = [data_2012,\n",
    "data_2013,\n",
    "data_2014,\n",
    "data_2015,\n",
    "data_2016,\n",
    "data_2017,\n",
    "data_2018,\n",
    "data_2019,\n",
    "data_2020]\n"
   ]
  },
  {
   "cell_type": "markdown",
   "metadata": {},
   "source": [
    "### Transformation"
   ]
  },
  {
   "cell_type": "code",
   "execution_count": 7,
   "metadata": {},
   "outputs": [],
   "source": [
    "# dict for replacing values of primary keys in location table \n",
    "# and column names in counting tables. \n",
    "# This makes the primary keys (abbrevations) more readable\n",
    "\n",
    "columns_dict = {\"12-PA-SCH\": \"schw\",\n",
    "           \"02-MI-JAN-N\": \"jann\",\n",
    "           \"02-MI-JAN-S\": \"jans\",\n",
    "           \"13-CW-PRI\": \"prin\",\n",
    "           \"18-TS-YOR-O\": \"yoro\",\n",
    "           \"18-TS-YOR-W\": \"yorw\",\n",
    "           \"19-TS-MON\": \"monu\",\n",
    "           \"27-RE-MAR\": \"mark\",\n",
    "           \"03-MI-SAN-O\": \"invo\",\n",
    "           \"03-MI-SAN-W\": \"invw\",\n",
    "           \"05-FK-OBB-O\": \"obeo\",\n",
    "           \"05-FK-OBB-W\": \"obew\",\n",
    "           \"26-LI-PUP\": \"paul\",\n",
    "           \"24-MH-ALB\": \"albe\",\n",
    "           \"10-PA-BER-N\": \"bern\",\n",
    "           \"10-PA-BER-S\": \"bers\",\n",
    "           \"15-SP-KLO-S\": \"klos\",\n",
    "           \"15-SP-KLO-N\": \"klon\",\n",
    "           \"17-SZ-BRE-O\": \"breo\",\n",
    "           \"17-SZ-BRE-W\": \"brew\",\n",
    "           \"20-TS-MAR-N \": \"marn\",\n",
    "           \"20-TS-MAR-S\": \"mars\",\n",
    "           \"21-NK-MAY\": \"mayb\",\n",
    "           \"23-TK-KAI\": \"kais\",\n",
    "           \"06-FK-FRA-O\": \"frao\",\n",
    "           \"06-FK-FRA-W\": \"fraw\"} \n",
    "\n",
    "\n"
   ]
  },
  {
   "cell_type": "markdown",
   "metadata": {},
   "source": [
    "We change columns and rows: After the transformation, we have a column with station names, and a column with corresponding number of cyclists at this point in time (DateTime column). This tranformation is made by the `table.melt` command.  \n",
    "Moreover we change station abbrevations according to the dectionairy defined in previous cell."
   ]
  },
  {
   "cell_type": "code",
   "execution_count": 8,
   "metadata": {},
   "outputs": [],
   "source": [
    "output_tables = []\n",
    "for table in counting_tables:\n",
    "    table.rename(columns=columns_dict, inplace=True)\n",
    "    temp_table = table.melt(id_vars='DateTime', value_name=\"cyclists\", var_name=\"station\")\n",
    "    # print(temp_table)\n",
    "    output_tables.append(temp_table.dropna(subset=['DateTime']))\n",
    "    \n",
    "    \n",
    "data_location.replace({\"Zaehlstelle\": columns_dict}, inplace=True)"
   ]
  },
  {
   "cell_type": "markdown",
   "metadata": {},
   "source": [
    "### Output the final tables back to excel\n",
    "As I use Micrsoft SQL Server, one excel file is the most convenient file type for inport data into the database."
   ]
  },
  {
   "cell_type": "code",
   "execution_count": 10,
   "metadata": {},
   "outputs": [],
   "source": [
    "with pd.ExcelWriter(\"radzaehlung_correct_2.xlsx\") as writer:\n",
    "    data_location.to_excel(writer,sheet_name=\"data_location\", index=False)\n",
    "    output_tables[0].to_excel(writer,sheet_name=\"data_2012\", index=False)\n",
    "    output_tables[1].to_excel(writer,sheet_name=\"data_2013\", index=False)\n",
    "    output_tables[2].to_excel(writer,sheet_name=\"data_2014\", index=False)\n",
    "    output_tables[3].to_excel(writer,sheet_name=\"data_2015\", index=False)\n",
    "    output_tables[4].to_excel(writer,sheet_name=\"data_2016\", index=False)\n",
    "    output_tables[5].to_excel(writer,sheet_name=\"data_2017\", index=False)\n",
    "    output_tables[6].to_excel(writer,sheet_name=\"data_2018\", index=False)\n",
    "    output_tables[7].to_excel(writer,sheet_name=\"data_2019\", index=False)\n",
    "    output_tables[8].to_excel(writer,sheet_name=\"data_2020\", index=False)"
   ]
  },
  {
   "cell_type": "code",
   "execution_count": null,
   "metadata": {},
   "outputs": [],
   "source": []
  }
 ],
 "metadata": {
  "interpreter": {
   "hash": "7b80923e581c7d339eee8234ce5622e7c9780ccfbcf66f39b50af355405bd0c3"
  },
  "kernelspec": {
   "display_name": "Python 3.8.9 64-bit",
   "name": "python3"
  },
  "language_info": {
   "codemirror_mode": {
    "name": "ipython",
    "version": 3
   },
   "file_extension": ".py",
   "mimetype": "text/x-python",
   "name": "python",
   "nbconvert_exporter": "python",
   "pygments_lexer": "ipython3",
   "version": "3.8.9"
  },
  "orig_nbformat": 4
 },
 "nbformat": 4,
 "nbformat_minor": 2
}
