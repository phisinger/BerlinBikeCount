{
 "cells": [
  {
   "cell_type": "markdown",
   "metadata": {},
   "source": [
    "# Forecasting bike usage in Berlin\n",
    "1. EDA\n",
    "2. Preparing and cleansing data\n",
    "3. Forecast data"
   ]
  },
  {
   "cell_type": "markdown",
   "metadata": {},
   "source": [
    "## Import packages and data"
   ]
  },
  {
   "cell_type": "code",
   "execution_count": 47,
   "metadata": {},
   "outputs": [],
   "source": [
    "import pandas as pd \n",
    "import matplotlib.pyplot as plt \n",
    "import seaborn as sns\n",
    "import numpy as np"
   ]
  },
  {
   "cell_type": "markdown",
   "metadata": {},
   "source": [
    "I read in the data I processed through the `transform_excel.ipynb` notebook and through SQL."
   ]
  },
  {
   "cell_type": "code",
   "execution_count": 48,
   "metadata": {},
   "outputs": [],
   "source": [
    "data = pd.read_csv(\"../data/data_all_years.csv\", parse_dates=[0])"
   ]
  },
  {
   "cell_type": "markdown",
   "metadata": {},
   "source": [
    "## EDA\n",
    "Nothing special here just some checks on errors, outliers and dimensions. So, I get a better impression of the data."
   ]
  },
  {
   "cell_type": "code",
   "execution_count": 49,
   "metadata": {},
   "outputs": [
    {
     "data": {
      "text/html": [
       "<div>\n",
       "<style scoped>\n",
       "    .dataframe tbody tr th:only-of-type {\n",
       "        vertical-align: middle;\n",
       "    }\n",
       "\n",
       "    .dataframe tbody tr th {\n",
       "        vertical-align: top;\n",
       "    }\n",
       "\n",
       "    .dataframe thead th {\n",
       "        text-align: right;\n",
       "    }\n",
       "</style>\n",
       "<table border=\"1\" class=\"dataframe\">\n",
       "  <thead>\n",
       "    <tr style=\"text-align: right;\">\n",
       "      <th></th>\n",
       "      <th>DateTime</th>\n",
       "      <th>station</th>\n",
       "      <th>cyclists</th>\n",
       "    </tr>\n",
       "  </thead>\n",
       "  <tbody>\n",
       "    <tr>\n",
       "      <th>0</th>\n",
       "      <td>2017-12-29 07:00:00</td>\n",
       "      <td>bers</td>\n",
       "      <td>32</td>\n",
       "    </tr>\n",
       "    <tr>\n",
       "      <th>1</th>\n",
       "      <td>2017-12-29 07:00:00</td>\n",
       "      <td>breo</td>\n",
       "      <td>18</td>\n",
       "    </tr>\n",
       "    <tr>\n",
       "      <th>2</th>\n",
       "      <td>2017-12-29 07:00:00</td>\n",
       "      <td>brew</td>\n",
       "      <td>14</td>\n",
       "    </tr>\n",
       "    <tr>\n",
       "      <th>3</th>\n",
       "      <td>2017-12-29 07:00:00</td>\n",
       "      <td>frao</td>\n",
       "      <td>14</td>\n",
       "    </tr>\n",
       "    <tr>\n",
       "      <th>4</th>\n",
       "      <td>2017-12-29 07:00:00</td>\n",
       "      <td>fraw</td>\n",
       "      <td>16</td>\n",
       "    </tr>\n",
       "  </tbody>\n",
       "</table>\n",
       "</div>"
      ],
      "text/plain": [
       "             DateTime station  cyclists\n",
       "0 2017-12-29 07:00:00    bers        32\n",
       "1 2017-12-29 07:00:00    breo        18\n",
       "2 2017-12-29 07:00:00    brew        14\n",
       "3 2017-12-29 07:00:00    frao        14\n",
       "4 2017-12-29 07:00:00    fraw        16"
      ]
     },
     "execution_count": 49,
     "metadata": {},
     "output_type": "execute_result"
    }
   ],
   "source": [
    "# Print some samples\n",
    "data.head()"
   ]
  },
  {
   "cell_type": "code",
   "execution_count": 50,
   "metadata": {},
   "outputs": [
    {
     "name": "stdout",
     "output_type": "stream",
     "text": [
      "<class 'pandas.core.frame.DataFrame'>\n",
      "RangeIndex: 1211307 entries, 0 to 1211306\n",
      "Data columns (total 3 columns):\n",
      " #   Column    Non-Null Count    Dtype         \n",
      "---  ------    --------------    -----         \n",
      " 0   DateTime  1211307 non-null  datetime64[ns]\n",
      " 1   station   1211307 non-null  object        \n",
      " 2   cyclists  1211307 non-null  int64         \n",
      "dtypes: datetime64[ns](1), int64(1), object(1)\n",
      "memory usage: 27.7+ MB\n"
     ]
    }
   ],
   "source": [
    "# Check data types and data dimensions\n",
    "data.info()"
   ]
  },
  {
   "cell_type": "code",
   "execution_count": 51,
   "metadata": {},
   "outputs": [
    {
     "data": {
      "text/html": [
       "<div>\n",
       "<style scoped>\n",
       "    .dataframe tbody tr th:only-of-type {\n",
       "        vertical-align: middle;\n",
       "    }\n",
       "\n",
       "    .dataframe tbody tr th {\n",
       "        vertical-align: top;\n",
       "    }\n",
       "\n",
       "    .dataframe thead th {\n",
       "        text-align: right;\n",
       "    }\n",
       "</style>\n",
       "<table border=\"1\" class=\"dataframe\">\n",
       "  <thead>\n",
       "    <tr style=\"text-align: right;\">\n",
       "      <th></th>\n",
       "      <th>DateTime</th>\n",
       "      <th>station</th>\n",
       "      <th>cyclists</th>\n",
       "    </tr>\n",
       "  </thead>\n",
       "  <tbody>\n",
       "    <tr>\n",
       "      <th>count</th>\n",
       "      <td>1211307</td>\n",
       "      <td>1211307</td>\n",
       "      <td>1.211307e+06</td>\n",
       "    </tr>\n",
       "    <tr>\n",
       "      <th>unique</th>\n",
       "      <td>NaN</td>\n",
       "      <td>26</td>\n",
       "      <td>NaN</td>\n",
       "    </tr>\n",
       "    <tr>\n",
       "      <th>top</th>\n",
       "      <td>NaN</td>\n",
       "      <td>schw</td>\n",
       "      <td>NaN</td>\n",
       "    </tr>\n",
       "    <tr>\n",
       "      <th>freq</th>\n",
       "      <td>NaN</td>\n",
       "      <td>77466</td>\n",
       "      <td>NaN</td>\n",
       "    </tr>\n",
       "    <tr>\n",
       "      <th>mean</th>\n",
       "      <td>2018-04-10 15:15:56.587554048</td>\n",
       "      <td>NaN</td>\n",
       "      <td>9.014837e+01</td>\n",
       "    </tr>\n",
       "    <tr>\n",
       "      <th>min</th>\n",
       "      <td>2012-03-01 00:00:00</td>\n",
       "      <td>NaN</td>\n",
       "      <td>-1.000000e+00</td>\n",
       "    </tr>\n",
       "    <tr>\n",
       "      <th>25%</th>\n",
       "      <td>2017-01-05 22:00:00</td>\n",
       "      <td>NaN</td>\n",
       "      <td>1.100000e+01</td>\n",
       "    </tr>\n",
       "    <tr>\n",
       "      <th>50%</th>\n",
       "      <td>2018-05-06 05:00:00</td>\n",
       "      <td>NaN</td>\n",
       "      <td>4.600000e+01</td>\n",
       "    </tr>\n",
       "    <tr>\n",
       "      <th>75%</th>\n",
       "      <td>2019-09-03 13:00:00</td>\n",
       "      <td>NaN</td>\n",
       "      <td>1.270000e+02</td>\n",
       "    </tr>\n",
       "    <tr>\n",
       "      <th>max</th>\n",
       "      <td>2020-12-31 23:00:00</td>\n",
       "      <td>NaN</td>\n",
       "      <td>2.167000e+03</td>\n",
       "    </tr>\n",
       "    <tr>\n",
       "      <th>std</th>\n",
       "      <td>NaN</td>\n",
       "      <td>NaN</td>\n",
       "      <td>1.153895e+02</td>\n",
       "    </tr>\n",
       "  </tbody>\n",
       "</table>\n",
       "</div>"
      ],
      "text/plain": [
       "                             DateTime  station      cyclists\n",
       "count                         1211307  1211307  1.211307e+06\n",
       "unique                            NaN       26           NaN\n",
       "top                               NaN     schw           NaN\n",
       "freq                              NaN    77466           NaN\n",
       "mean    2018-04-10 15:15:56.587554048      NaN  9.014837e+01\n",
       "min               2012-03-01 00:00:00      NaN -1.000000e+00\n",
       "25%               2017-01-05 22:00:00      NaN  1.100000e+01\n",
       "50%               2018-05-06 05:00:00      NaN  4.600000e+01\n",
       "75%               2019-09-03 13:00:00      NaN  1.270000e+02\n",
       "max               2020-12-31 23:00:00      NaN  2.167000e+03\n",
       "std                               NaN      NaN  1.153895e+02"
      ]
     },
     "execution_count": 51,
     "metadata": {},
     "output_type": "execute_result"
    }
   ],
   "source": [
    "# Looking at some statistical measures\n",
    "data.describe(include='all', datetime_is_numeric=True)"
   ]
  },
  {
   "cell_type": "code",
   "execution_count": 52,
   "metadata": {},
   "outputs": [
    {
     "data": {
      "image/png": "[encoded data removed]",
      "text/plain": [
       "<Figure size 1440x360 with 1 Axes>"
      ]
     },
     "metadata": {
      "needs_background": "light"
     },
     "output_type": "display_data"
    },
    {
     "data": {
      "image/png": "[encoded data removed]",
      "text/plain": [
       "<Figure size 1440x360 with 1 Axes>"
      ]
     },
     "metadata": {
      "needs_background": "light"
     },
     "output_type": "display_data"
    },
    {
     "data": {
      "text/plain": [
       "<AxesSubplot:xlabel='DateTime', ylabel='Count'>"
      ]
     },
     "execution_count": 52,
     "metadata": {},
     "output_type": "execute_result"
    },
    {
     "data": {
      "image/png": "[encoded data removed]",
      "text/plain": [
       "<Figure size 1440x360 with 1 Axes>"
      ]
     },
     "metadata": {
      "needs_background": "light"
     },
     "output_type": "display_data"
    }
   ],
   "source": [
    "# Look at the distribution of data\n",
    "plt.figure(figsize=(20,5))\n",
    "sns.histplot(data=data, x='cyclists')\n",
    "plt.show()\n",
    "plt.figure(figsize=(20,5))\n",
    "sns.histplot(data=data, x='station')\n",
    "plt.show()\n",
    "plt.figure(figsize=(20,5))\n",
    "sns.histplot(data=data, x='DateTime')"
   ]
  },
  {
   "cell_type": "markdown",
   "metadata": {},
   "source": [
    "### Missing values\n",
    "check for missing values. There should be no missing values as I filtered them out in SQL. "
   ]
  },
  {
   "cell_type": "code",
   "execution_count": 53,
   "metadata": {},
   "outputs": [
    {
     "data": {
      "text/plain": [
       "DateTime    0\n",
       "station     0\n",
       "cyclists    0\n",
       "dtype: int64"
      ]
     },
     "execution_count": 53,
     "metadata": {},
     "output_type": "execute_result"
    }
   ],
   "source": [
    "data.isna().sum()\n"
   ]
  },
  {
   "cell_type": "markdown",
   "metadata": {},
   "source": [
    "### Errors\n",
    "In contrast of missing values, there are many error values. I delete them so that I can see how many usabel data I have for each station."
   ]
  },
  {
   "cell_type": "code",
   "execution_count": 54,
   "metadata": {},
   "outputs": [
    {
     "data": {
      "text/plain": [
       "<AxesSubplot:xlabel='count', ylabel='station'>"
      ]
     },
     "execution_count": 54,
     "metadata": {},
     "output_type": "execute_result"
    },
    {
     "data": {
      "image/png": "[encoded data removed]",
      "text/plain": [
       "<Figure size 720x720 with 1 Axes>"
      ]
     },
     "metadata": {
      "needs_background": "light"
     },
     "output_type": "display_data"
    }
   ],
   "source": [
    "# counting values for each station\n",
    "amount_of_measurements = pd.DataFrame(columns=['station', 'count'])\n",
    "for i in data['station'].unique():\n",
    "    amount_of_measurements = amount_of_measurements.append({'station':i, 'count':data[(data['station'] == i) & (data['cyclists'] == -1)].shape[0]}, ignore_index=True)\n",
    "\n",
    "plt.figure(figsize=(10, 10))\n",
    "sns.barplot(data=amount_of_measurements, x='count', y='station')"
   ]
  },
  {
   "cell_type": "markdown",
   "metadata": {},
   "source": [
    "#### Cleaning errors"
   ]
  },
  {
   "cell_type": "code",
   "execution_count": 55,
   "metadata": {},
   "outputs": [
    {
     "data": {
      "text/plain": [
       "1156547"
      ]
     },
     "execution_count": 55,
     "metadata": {},
     "output_type": "execute_result"
    }
   ],
   "source": [
    "data_clean = data\n",
    "data_clean.loc[data.cyclists == -1, 'cyclists'] = np.nan\n",
    "data_clean.dropna(inplace=True)\n",
    "data_clean.shape[0]"
   ]
  },
  {
   "cell_type": "markdown",
   "metadata": {},
   "source": [
    "### Outliers\n",
    "As you can see in the box plot below, there are some outliers. But because I will sum the hourly data up to daily measurements I won't clean them now. "
   ]
  },
  {
   "cell_type": "code",
   "execution_count": 56,
   "metadata": {},
   "outputs": [
    {
     "data": {
      "text/plain": [
       "<AxesSubplot:xlabel='station', ylabel='cyclists'>"
      ]
     },
     "execution_count": 56,
     "metadata": {},
     "output_type": "execute_result"
    },
    {
     "data": {
      "image/png": "[encoded data removed]",
      "text/plain": [
       "<Figure size 1440x576 with 1 Axes>"
      ]
     },
     "metadata": {
      "needs_background": "light"
     },
     "output_type": "display_data"
    }
   ],
   "source": [
    "plt.figure(figsize=(20,8))\n",
    "sns.boxplot(data=data, y='cyclists', x=\"station\")"
   ]
  },
  {
   "cell_type": "code",
   "execution_count": 57,
   "metadata": {},
   "outputs": [
    {
     "data": {
      "text/plain": [
       "<AxesSubplot:xlabel='count', ylabel='station'>"
      ]
     },
     "execution_count": 57,
     "metadata": {},
     "output_type": "execute_result"
    },
    {
     "data": {
      "image/png": "[encoded data removed]",
      "text/plain": [
       "<Figure size 720x720 with 1 Axes>"
      ]
     },
     "metadata": {
      "needs_background": "light"
     },
     "output_type": "display_data"
    }
   ],
   "source": [
    "# counting usable values for each station\n",
    "amount_of_measurements = pd.DataFrame(columns=['station', 'count'])\n",
    "for i in data['station'].unique():\n",
    "    amount_of_measurements = amount_of_measurements.append({'station':i, 'count':data[data['station'] == i].shape[0]}, ignore_index=True)\n",
    "\n",
    "plt.figure(figsize=(10, 10))\n",
    "sns.barplot(data=amount_of_measurements, x='count', y='station')"
   ]
  },
  {
   "cell_type": "markdown",
   "metadata": {},
   "source": [
    "## Prepare the data\n",
    "I augment the records by calculated information  \n",
    "- weekend\n",
    "- bank holiday\n",
    "- winter or summer\n",
    "\n",
    "I will handle the forecasting challenge as a regression task. Therefore, I will split the date in its components.  \n",
    "As I want to have the prediction on a daily level, I will group all data per day by sum."
   ]
  },
  {
   "cell_type": "code",
   "execution_count": 58,
   "metadata": {},
   "outputs": [],
   "source": [
    "data_augmented = data_clean.copy()\n",
    "weekend_list = []\n",
    "for row_weekday in data_augmented['DateTime']:\n",
    "    if row_weekday.weekday() >= 6:\n",
    "        weekend_list.append(1)\n",
    "    else:\n",
    "        weekend_list.append(0)\n",
    "data_augmented['weekend'] = weekend_list"
   ]
  },
  {
   "cell_type": "code",
   "execution_count": 59,
   "metadata": {},
   "outputs": [],
   "source": [
    "summer_list = [1 if date.month >= 3 and date.month <= 10 else 0 for date in data_augmented['DateTime']]\n",
    "data_augmented['summer'] = summer_list"
   ]
  },
  {
   "cell_type": "code",
   "execution_count": 60,
   "metadata": {},
   "outputs": [
    {
     "data": {
      "text/html": [
       "<div>\n",
       "<style scoped>\n",
       "    .dataframe tbody tr th:only-of-type {\n",
       "        vertical-align: middle;\n",
       "    }\n",
       "\n",
       "    .dataframe tbody tr th {\n",
       "        vertical-align: top;\n",
       "    }\n",
       "\n",
       "    .dataframe thead th {\n",
       "        text-align: right;\n",
       "    }\n",
       "</style>\n",
       "<table border=\"1\" class=\"dataframe\">\n",
       "  <thead>\n",
       "    <tr style=\"text-align: right;\">\n",
       "      <th></th>\n",
       "      <th>DateTime</th>\n",
       "      <th>station</th>\n",
       "      <th>cyclists</th>\n",
       "      <th>weekend</th>\n",
       "      <th>summer</th>\n",
       "    </tr>\n",
       "  </thead>\n",
       "  <tbody>\n",
       "    <tr>\n",
       "      <th>0</th>\n",
       "      <td>2017-12-29 07:00:00</td>\n",
       "      <td>bers</td>\n",
       "      <td>32.0</td>\n",
       "      <td>0</td>\n",
       "      <td>0</td>\n",
       "    </tr>\n",
       "    <tr>\n",
       "      <th>1</th>\n",
       "      <td>2017-12-29 07:00:00</td>\n",
       "      <td>breo</td>\n",
       "      <td>18.0</td>\n",
       "      <td>0</td>\n",
       "      <td>0</td>\n",
       "    </tr>\n",
       "    <tr>\n",
       "      <th>2</th>\n",
       "      <td>2017-12-29 07:00:00</td>\n",
       "      <td>brew</td>\n",
       "      <td>14.0</td>\n",
       "      <td>0</td>\n",
       "      <td>0</td>\n",
       "    </tr>\n",
       "    <tr>\n",
       "      <th>3</th>\n",
       "      <td>2017-12-29 07:00:00</td>\n",
       "      <td>frao</td>\n",
       "      <td>14.0</td>\n",
       "      <td>0</td>\n",
       "      <td>0</td>\n",
       "    </tr>\n",
       "    <tr>\n",
       "      <th>4</th>\n",
       "      <td>2017-12-29 07:00:00</td>\n",
       "      <td>fraw</td>\n",
       "      <td>16.0</td>\n",
       "      <td>0</td>\n",
       "      <td>0</td>\n",
       "    </tr>\n",
       "  </tbody>\n",
       "</table>\n",
       "</div>"
      ],
      "text/plain": [
       "             DateTime station  cyclists  weekend  summer\n",
       "0 2017-12-29 07:00:00    bers      32.0        0       0\n",
       "1 2017-12-29 07:00:00    breo      18.0        0       0\n",
       "2 2017-12-29 07:00:00    brew      14.0        0       0\n",
       "3 2017-12-29 07:00:00    frao      14.0        0       0\n",
       "4 2017-12-29 07:00:00    fraw      16.0        0       0"
      ]
     },
     "execution_count": 60,
     "metadata": {},
     "output_type": "execute_result"
    }
   ],
   "source": [
    "data_augmented.head()"
   ]
  },
  {
   "cell_type": "code",
   "execution_count": 61,
   "metadata": {},
   "outputs": [
    {
     "name": "stdout",
     "output_type": "stream",
     "text": [
      "['2012-01-01', '2012-04-06', '2012-04-09', '2012-05-01', '2012-05-17', '2012-05-28', '2012-10-03', '2012-12-25', '2012-12-26', '2013-01-01', '2013-03-29', '2013-04-01', '2013-05-01', '2013-05-09', '2013-05-20', '2013-10-03', '2013-12-25', '2013-12-26', '2014-01-01', '2014-04-18', '2014-04-21', '2014-05-01', '2014-05-29', '2014-06-09', '2014-10-03', '2014-12-25', '2014-12-26', '2015-01-01', '2015-04-03', '2015-04-06', '2015-05-01', '2015-05-14', '2015-05-25', '2015-10-03', '2015-12-25', '2015-12-26', '2016-01-01', '2016-03-25', '2016-03-28', '2016-05-01', '2016-05-05', '2016-05-16', '2016-10-03', '2016-12-25', '2016-12-26', '2017-01-01', '2017-04-14', '2017-04-17', '2017-05-01', '2017-05-25', '2017-06-05', '2017-10-03', '2017-10-31', '2017-12-25', '2017-12-26', '2018-01-01', '2018-03-30', '2018-04-02', '2018-05-01', '2018-05-10', '2018-05-21', '2018-10-03', '2018-12-25', '2018-12-26', '2019-01-01', '2019-03-08', '2019-04-19', '2019-04-22', '2019-05-01', '2019-05-30', '2019-06-10', '2019-10-03', '2019-12-25', '2019-12-26', '2020-01-01', '2020-03-08', '2020-04-10', '2020-04-13', '2020-05-01', '2020-05-21', '2020-06-01', '2020-10-03', '2020-12-25', '2020-12-26']\n"
     ]
    }
   ],
   "source": [
    "import requests\n",
    "\n",
    "url = \"https://feiertage-api.de/api/?nur_land=BE&jahr=\"\n",
    "response = []\n",
    "\n",
    "for year in range(2012, 2021):\n",
    "    year_response = requests.request(\"GET\", url+str(year)).json()\n",
    "    for holiday in year_response:\n",
    "        response.append(year_response[holiday][\"datum\"])\n",
    "\n",
    "print(response)"
   ]
  },
  {
   "cell_type": "code",
   "execution_count": 62,
   "metadata": {},
   "outputs": [],
   "source": [
    "data_augmented['bank_holiday'] = [1 if str(date.date()) in response else 0 for date in data_augmented[\"DateTime\"]]"
   ]
  },
  {
   "cell_type": "code",
   "execution_count": 63,
   "metadata": {},
   "outputs": [],
   "source": [
    "data_mean = data_augmented.copy()\n",
    "data_mean[\"Day\"] = data_mean[\"DateTime\"].dt.day\n",
    "data_mean[\"Month\"] = data_mean[\"DateTime\"].dt.month\n",
    "data_mean[\"Year\"] = data_mean[\"DateTime\"].dt.year\n",
    "data_mean[\"min\"] = data_mean[\"DateTime\"].dt.hour\n",
    "data_mean.drop(\"DateTime\", axis=1, inplace=True)\n",
    "\n",
    "get_first = lambda col: col.head(1)\n",
    "\n",
    "data_mean = data_mean\\\n",
    "    .groupby(by=[\"Year\", \"Month\", \"Day\", \"station\"], as_index=False)\\\n",
    "    .agg({'cyclists': 'sum', 'bank_holiday': get_first, 'weekend': get_first, 'summer': get_first})\n"
   ]
  },
  {
   "cell_type": "code",
   "execution_count": 64,
   "metadata": {},
   "outputs": [
    {
     "data": {
      "text/plain": [
       "(48232, 8)"
      ]
     },
     "execution_count": 64,
     "metadata": {},
     "output_type": "execute_result"
    }
   ],
   "source": [
    "data_mean.shape"
   ]
  },
  {
   "cell_type": "markdown",
   "metadata": {},
   "source": [
    "### Revisit the outliers\n",
    "We check again for outliers. There are only a few and removing them would effect only a small performance increase."
   ]
  },
  {
   "cell_type": "code",
   "execution_count": 65,
   "metadata": {},
   "outputs": [
    {
     "data": {
      "text/plain": [
       "<AxesSubplot:xlabel='station', ylabel='cyclists'>"
      ]
     },
     "execution_count": 65,
     "metadata": {},
     "output_type": "execute_result"
    },
    {
     "data": {
      "image/png": "[encoded data removed]",
      "text/plain": [
       "<Figure size 1440x576 with 1 Axes>"
      ]
     },
     "metadata": {
      "needs_background": "light"
     },
     "output_type": "display_data"
    }
   ],
   "source": [
    "plt.figure(figsize=(20,8))\n",
    "sns.boxplot(data=data_mean, y='cyclists', x=\"station\")"
   ]
  },
  {
   "cell_type": "markdown",
   "metadata": {},
   "source": [
    "## Develop Forecasting Model"
   ]
  },
  {
   "cell_type": "markdown",
   "metadata": {},
   "source": [
    "I will train a model for every station. So, I don't have to encode the station name and I can leave this column out.  \n",
    "This example will be with station `schw`. "
   ]
  },
  {
   "cell_type": "code",
   "execution_count": 77,
   "metadata": {},
   "outputs": [],
   "source": [
    "from sklearn.ensemble import GradientBoostingRegressor\n",
    "from sklearn.model_selection import RandomizedSearchCV\n",
    "from sklearn import metrics\n"
   ]
  },
  {
   "cell_type": "code",
   "execution_count": 71,
   "metadata": {},
   "outputs": [
    {
     "name": "stdout",
     "output_type": "stream",
     "text": [
      "2903\n",
      "2903\n",
      "291\n",
      "291\n"
     ]
    }
   ],
   "source": [
    "station = \"schw\"\n",
    "\n",
    "train_X = data_mean.loc[data_mean[\"station\"] == station,[\"Year\", \"Month\", \"Day\", \"bank_holiday\", \"weekend\", \"summer\"]]\n",
    "train_X = train_X.iloc[:int(train_X.shape[0]*0.9)]\n",
    "train_y = data_mean.loc[data_mean[\"station\"] == station,[\"cyclists\"]]\n",
    "train_y = train_y.iloc[:int(train_y.shape[0]*0.9)]\n",
    "\n",
    "print(train_X.shape[0])\n",
    "print(train_y.shape[0])\n",
    "\n",
    "test_X = data_mean.loc[data_mean[\"station\"] == station,[\"Year\", \"Month\", \"Day\", \"bank_holiday\", \"weekend\", \"summer\"]]\n",
    "test_X = train_X.iloc[int(train_X.shape[0]*0.9):]\n",
    "test_y = data_mean.loc[data_mean[\"station\"] == station,[\"cyclists\"]]\n",
    "test_y = train_y.iloc[int(train_y.shape[0]*0.9):]\n",
    "\n",
    "print(test_X.shape[0])\n",
    "print(test_y.shape[0])"
   ]
  },
  {
   "cell_type": "code",
   "execution_count": 75,
   "metadata": {},
   "outputs": [
    {
     "name": "stderr",
     "output_type": "stream",
     "text": [
      "C:\\Users\\Philip Singer\\AppData\\Local\\Programs\\Python\\Python38\\lib\\site-packages\\sklearn\\ensemble\\_gb.py:494: DataConversionWarning: A column-vector y was passed when a 1d array was expected. Please change the shape of y to (n_samples, ), for example using ravel().\n",
      "  y = column_or_1d(y, warn=True)\n"
     ]
    },
    {
     "name": "stdout",
     "output_type": "stream",
     "text": [
      "{'subsample': 0.85, 'n_estimators': 1250, 'min_samples_split': 8, 'min_samples_leaf': 1, 'max_depth': 3, 'learning_rate': 0.005}\n"
     ]
    }
   ],
   "source": [
    "param_grid = {'learning_rate':[0.15,0.1,0.05,0.01,0.005,0.001],\n",
    "                'n_estimators':[100,250,500,750,1000,1250,1500,1750],\n",
    "                'max_depth':[2,3,4,5,6,7],\n",
    "                'min_samples_split':[2,4,6,8,10,20,40,60,100], \n",
    "                'min_samples_leaf':[1,3,5,7,9],\n",
    "                'subsample':[0.7,0.75,0.8,0.85,0.9,0.95,1]\n",
    "    }\n",
    "clf = RandomizedSearchCV(GradientBoostingRegressor(random_state=123), n_iter=20, n_jobs=-1, param_distributions=param_grid, scoring='neg_mean_squared_error', verbose=0, random_state=123)\n",
    "clf.fit(train_X, train_y)\n",
    "print(clf.best_params_)\n"
   ]
  },
  {
   "cell_type": "code",
   "execution_count": 87,
   "metadata": {},
   "outputs": [
    {
     "name": "stderr",
     "output_type": "stream",
     "text": [
      "C:\\Users\\Philip Singer\\AppData\\Local\\Programs\\Python\\Python38\\lib\\site-packages\\sklearn\\ensemble\\_gb.py:494: DataConversionWarning: A column-vector y was passed when a 1d array was expected. Please change the shape of y to (n_samples, ), for example using ravel().\n",
      "  y = column_or_1d(y, warn=True)\n"
     ]
    },
    {
     "name": "stdout",
     "output_type": "stream",
     "text": [
      "MSE 224316.84019428305\n",
      "RMSE 473.6209879157416\n",
      "R2 0.6096347478631594\n",
      "MAPE 0.2355567538196684\n"
     ]
    }
   ],
   "source": [
    "gbr = GradientBoostingRegressor(\n",
    "    random_state=123, \n",
    "    subsample=0.85,\n",
    "    n_estimators=1250,\n",
    "    min_samples_split=8,\n",
    "    min_samples_leaf=1, \n",
    "    max_depth=3,\n",
    "    learning_rate=0.005,\n",
    ")\n",
    "\n",
    "gbr.fit(train_X, train_y)\n",
    "pred_y = pd.DataFrame(gbr.predict(test_X))\n",
    "\n",
    "def validate(test_y, pred_y):\n",
    "    print(\"MSE\", metrics.mean_squared_error(test_y, pred_y))\n",
    "    print(\"RMSE\", metrics.mean_squared_error(test_y, pred_y, squared=False))\n",
    "    print(\"R2\", metrics.r2_score(test_y, pred_y))\n",
    "    print(\"MAPE\", metrics.mean_absolute_percentage_error(test_y, pred_y))\n",
    "    \n",
    "validate(test_y, pred_y)"
   ]
  },
  {
   "cell_type": "code",
   "execution_count": 88,
   "metadata": {},
   "outputs": [
    {
     "name": "stdout",
     "output_type": "stream",
     "text": [
      "<class 'pandas.core.frame.DataFrame'>\n",
      "<class 'pandas.core.frame.DataFrame'>\n"
     ]
    }
   ],
   "source": [
    "print(type(test_y))\n",
    "print(type(pred_y))"
   ]
  },
  {
   "cell_type": "code",
   "execution_count": null,
   "metadata": {},
   "outputs": [],
   "source": []
  }
 ],
 "metadata": {
  "interpreter": {
   "hash": "7b80923e581c7d339eee8234ce5622e7c9780ccfbcf66f39b50af355405bd0c3"
  },
  "kernelspec": {
   "display_name": "Python 3.8.9 64-bit",
   "language": "python",
   "name": "python3"
  },
  "language_info": {
   "codemirror_mode": {
    "name": "ipython",
    "version": 3
   },
   "file_extension": ".py",
   "mimetype": "text/x-python",
   "name": "python",
   "nbconvert_exporter": "python",
   "pygments_lexer": "ipython3",
   "version": "3.8.9"
  },
  "orig_nbformat": 4
 },
 "nbformat": 4,
 "nbformat_minor": 2
}
